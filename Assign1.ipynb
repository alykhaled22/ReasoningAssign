{
 "cells": [
  {
   "cell_type": "markdown",
   "metadata": {},
   "source": [
    "Eliminate Implication"
   ]
  },
  {
   "cell_type": "code",
   "execution_count": 2,
   "metadata": {},
   "outputs": [],
   "source": [
    "def eliminate_implication(expression):\n",
    "    while expression.find('=>') != -1:\n",
    "        subS = expression.split(\"=>\",1)\n",
    "        i = len(subS[0])-1\n",
    "        while i != 0:\n",
    "            if subS[0][i] == '(':\n",
    "                newS = subS[0][:i-1] + ' ~' + subS[0][i-1:].strip()\n",
    "                expression = f\"{newS} | {subS[1].strip()}\"\n",
    "                break\n",
    "            i = i - 1\n",
    "    return expression\n",
    "\n"
   ]
  },
  {
   "cell_type": "code",
   "execution_count": 3,
   "metadata": {},
   "outputs": [
    {
     "name": "stdout",
     "output_type": "stream",
     "text": [
      "(x | ~(y | z))\n",
      "(q | ~(p | ~(q | r)))\n"
     ]
    }
   ],
   "source": [
    "print(eliminate_implication(\"(x | (y => z))\"))\n",
    "print(eliminate_implication(\"(q | (p => (q => r)))\"))"
   ]
  },
  {
   "cell_type": "markdown",
   "metadata": {},
   "source": [
    "Move Negation Inward"
   ]
  },
  {
   "cell_type": "code",
   "execution_count": 4,
   "metadata": {},
   "outputs": [],
   "source": [
    "def Negation(expression):\n",
    "    negation = False\n",
    "    Fexp = \"\"\n",
    "    indoor = False\n",
    "    for char in expression:\n",
    "\n",
    "        if char == \"~\" and indoor:\n",
    "            Fexp += char\n",
    "\n",
    "        elif char == \"~\" and not negation:\n",
    "            negation = True\n",
    "\n",
    "        elif char == \"|\":\n",
    "            Fexp += \"&\" if negation else \"|\"\n",
    "\n",
    "        elif char == \"&\":\n",
    "            Fexp += \"|\" if negation else \"&\"\n",
    "\n",
    "        elif char == \"(\" and negation:\n",
    "            indoor = True\n",
    "            Fexp += char\n",
    "\n",
    "        elif char == \"(\" and not negation:\n",
    "            indoor = True\n",
    "            Fexp += char\n",
    "\n",
    "        elif char == \")\" and negation:\n",
    "            Fexp += char\n",
    "            negation = False\n",
    "            indoor = False\n",
    "\n",
    "        elif char == \" \":\n",
    "            Fexp += char\n",
    "\n",
    "        else:\n",
    "            Fexp += \"~\" if negation else \"\"\n",
    "            Fexp += char\n",
    "    return Fexp\n",
    "\n",
    "\n",
    "def move_negation_inward(expression):\n",
    "    i=0\n",
    "    Fexp = ''\n",
    "    while i != len(expression):\n",
    "        if expression[i] == '~' and expression[i+1] == '(':\n",
    "            Fexp = expression[:i] + Negation(expression[i:])\n",
    "        i+=1\n",
    "    return Fexp\n",
    "\n"
   ]
  },
  {
   "cell_type": "code",
   "execution_count": 5,
   "metadata": {},
   "outputs": [
    {
     "name": "stdout",
     "output_type": "stream",
     "text": [
      "(~~q | ~~p)\n",
      "(q | (~p & (~q & ~r)))\n"
     ]
    }
   ],
   "source": [
    "print(move_negation_inward(\"~(~q & ~p)\"))\n",
    "print(move_negation_inward(\"(q | ~(p | (q | r)))\"))\n",
    "# (q | (~p & ~(~q & ~w)))"
   ]
  },
  {
   "cell_type": "markdown",
   "metadata": {},
   "source": [
    "Remove Double Not"
   ]
  },
  {
   "cell_type": "code",
   "execution_count": 6,
   "metadata": {},
   "outputs": [],
   "source": [
    "def RemovedoubleNot(expression):\n",
    "    Fexp = \"\"\n",
    "    cnt = 0\n",
    "    for char in expression:\n",
    "\n",
    "        if char == \"~\":\n",
    "            cnt += 1\n",
    "       \n",
    "        else:\n",
    "            if cnt % 2 != 0 and cnt != 0:\n",
    "                Fexp += \"~\"\n",
    "            Fexp += char\n",
    "            cnt = 0\n",
    "\n",
    "    return Fexp\n"
   ]
  },
  {
   "cell_type": "code",
   "execution_count": 7,
   "metadata": {},
   "outputs": [
    {
     "name": "stdout",
     "output_type": "stream",
     "text": [
      "(~q | (p | ~(q | ~w)))\n",
      "((T(w) | Q(w)) | (~Q(x) | ~T(x)))\n"
     ]
    }
   ],
   "source": [
    "print(RemovedoubleNot(\"(~q | ~~(p | ~~~(q | ~w)))\"))\n",
    "print(RemovedoubleNot(\"((~~T(w) | Q(w)) | (~~~Q(x) | ~T(x)))\"))"
   ]
  },
  {
   "cell_type": "markdown",
   "metadata": {},
   "source": [
    "Standardize Variables"
   ]
  },
  {
   "cell_type": "code",
   "execution_count": 8,
   "metadata": {},
   "outputs": [],
   "source": [
    "def Standardizevariables(expression):\n",
    "    Fexp = \"\"\n",
    "    sympols = []\n",
    "    ch = \"\"\n",
    "    operations = [\"|\", \"&\", \"=\"]\n",
    "    replace = False\n",
    "\n",
    "    for char in expression:\n",
    "\n",
    "        if char in sympols and replace:\n",
    "            ch = chr(ord(sympols[-1]) + 1)\n",
    "            Fexp += ch\n",
    "\n",
    "        else:\n",
    "            if ord(char) >= 97 and ord(char) <= 122:\n",
    "                sympols.append(char)\n",
    "                replace = False\n",
    "\n",
    "            else:\n",
    "                if char in operations:\n",
    "                    replace = True\n",
    "                \n",
    "                elif char == \")\":\n",
    "                    replace = False\n",
    "                    if ch != \"\":\n",
    "                        sympols.append(ch)\n",
    "            Fexp += char\n",
    "    return Fexp\n"
   ]
  },
  {
   "cell_type": "code",
   "execution_count": 9,
   "metadata": {},
   "outputs": [
    {
     "name": "stdout",
     "output_type": "stream",
     "text": [
      "(∀x P(x)) | (∃y Q(y)) & (∀z Q(z))\n",
      "(∀x P(x)) | (∃y Q(y)) & (∀z Q(z))\n"
     ]
    }
   ],
   "source": [
    "print(Standardizevariables(\"(∀x P(x)) | (∃x Q(x)) & (∀z Q(z))\"))\n",
    "print(Standardizevariables(\"(∀x P(x)) | (∃y Q(y)) & (∀x Q(x))\"))"
   ]
  },
  {
   "cell_type": "markdown",
   "metadata": {},
   "source": [
    "The Prenex Form"
   ]
  },
  {
   "cell_type": "code",
   "execution_count": 10,
   "metadata": {},
   "outputs": [],
   "source": [
    "def ThePrenexForm(expression):\n",
    "    Fexp = \"\"\n",
    "    subS = \" \"\n",
    "\n",
    "    for char in expression:\n",
    "        \n",
    "        if char == \"∀\" or char == \"∃\":\n",
    "            subS += char\n",
    "\n",
    "        elif subS[-1] == \"∃\" or subS[-1] == \"∀\":\n",
    "            subS += char + \" \"\n",
    "        elif char ==' ' and Fexp[-1] == '(':\n",
    "            continue\n",
    "        else:\n",
    "            Fexp += char\n",
    "\n",
    "    Fexp = subS.strip()+ ' ' + Fexp\n",
    "    return Fexp\n"
   ]
  },
  {
   "cell_type": "code",
   "execution_count": 11,
   "metadata": {},
   "outputs": [
    {
     "name": "stdout",
     "output_type": "stream",
     "text": [
      "∀x ∃x ∀z (P(x)) | (Q(x)) & (Q(z))\n",
      "∀y ∃z ∀w ((((P(w) ^ Q(y) ^ T(z))))\n"
     ]
    }
   ],
   "source": [
    "print(ThePrenexForm(\"(∀x P(x)) | (∃x Q(x)) & (∀z Q(z))\"))\n",
    "print(ThePrenexForm('(∀y (∃z (∀w (P(w) ^ Q(y) ^ T(z))))'))"
   ]
  },
  {
   "cell_type": "markdown",
   "metadata": {},
   "source": [
    "Skolemization\n"
   ]
  },
  {
   "cell_type": "code",
   "execution_count": 12,
   "metadata": {},
   "outputs": [],
   "source": [
    "def Skolemize(expression):\n",
    "    \n",
    "    replaced = []\n",
    "    universal = False\n",
    "    Fexp = ''\n",
    "    sign = ''\n",
    "    subS= ''\n",
    "\n",
    "    for char in expression:\n",
    "        if char == '∀':\n",
    "            universal = True\n",
    "            sign = char\n",
    "            Fexp += char\n",
    "\n",
    "        elif sign == '∀':\n",
    "            sign = char\n",
    "            Fexp += char\n",
    "        \n",
    "        elif char == \"∃\":\n",
    "            subS += char\n",
    "\n",
    "        elif len(subS) != 0 and subS[-1] == \"∃\":\n",
    "            subS += char\n",
    "            replaced.append(char)\n",
    "\n",
    "        else:\n",
    "            if char in replaced:\n",
    "                if universal:\n",
    "                    Fexp += f'F({sign})'\n",
    "                else:\n",
    "                    Fexp += 'B' if 'B' not in replaced else chr(ord(replaced[-1]) + 1)\n",
    "                    replaced.append(Fexp[-1])\n",
    "            else:\n",
    "                Fexp += char\n",
    "    return Fexp.strip()"
   ]
  },
  {
   "cell_type": "code",
   "execution_count": 13,
   "metadata": {},
   "outputs": [
    {
     "name": "stdout",
     "output_type": "stream",
     "text": [
      "P(A) | Q(B) & T(C)\n",
      "∀x  P(A) | Q(F(x)) & T(F(x))\n"
     ]
    }
   ],
   "source": [
    "print(Skolemize(\"∃y ∃z P(A) | Q(y) & T(z)\"))\n",
    "print(Skolemize(\"∀x ∃y P(A) | Q(y) & T(y)\"))"
   ]
  },
  {
   "cell_type": "markdown",
   "metadata": {},
   "source": [
    "Eliminate Univarsel Quantifiers"
   ]
  },
  {
   "cell_type": "code",
   "execution_count": 14,
   "metadata": {},
   "outputs": [],
   "source": [
    "def Eliminate_universal_quantifiers(expression):\n",
    "    Fexp = ''\n",
    "    subS = ''\n",
    "    for char in expression:\n",
    "        if char == \"∀\" :\n",
    "            subS += char\n",
    "\n",
    "        elif subS[-1] == \"∀\":\n",
    "            subS += char \n",
    "\n",
    "        else:\n",
    "            if char == ' ' and len(Fexp) == 0: continue\n",
    "            Fexp += char\n",
    "    \n",
    "    return Fexp"
   ]
  },
  {
   "cell_type": "code",
   "execution_count": 15,
   "metadata": {},
   "outputs": [
    {
     "name": "stdout",
     "output_type": "stream",
     "text": [
      "( P(x) | Q(x) & Q(z) )\n",
      "( P(w) ^ Q(y) ^ T(z) )\n"
     ]
    }
   ],
   "source": [
    "print(Eliminate_universal_quantifiers(\"∀x ∀x ∀z ( P(x) | Q(x) & Q(z) )\"))\n",
    "print(Eliminate_universal_quantifiers(\"∀y ∀z ∀w  ( P(w) ^ Q(y) ^ T(z) )\"))"
   ]
  }
 ],
 "metadata": {
  "kernelspec": {
   "display_name": "Python 3",
   "language": "python",
   "name": "python3"
  },
  "language_info": {
   "codemirror_mode": {
    "name": "ipython",
    "version": 3
   },
   "file_extension": ".py",
   "mimetype": "text/x-python",
   "name": "python",
   "nbconvert_exporter": "python",
   "pygments_lexer": "ipython3",
   "version": "3.10.11"
  }
 },
 "nbformat": 4,
 "nbformat_minor": 2
}
